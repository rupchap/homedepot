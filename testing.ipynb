{
 "cells": [
  {
   "cell_type": "code",
   "execution_count": 10,
   "metadata": {
    "collapsed": true
   },
   "outputs": [],
   "source": [
    "from utils import *"
   ]
  },
  {
   "cell_type": "code",
   "execution_count": 11,
   "metadata": {
    "collapsed": false
   },
   "outputs": [
    {
     "name": "stdout",
     "output_type": "stream",
     "text": [
      "importing data\n"
     ]
    }
   ],
   "source": [
    "print('importing data')\n",
    "df_train = pd.read_csv('../data/train.csv' ,nrows=5)\n",
    "df_test = pd.read_csv('../data/test.csv', nrows=5)\n",
    "df_pro_desc = pd.read_csv('../data/product_descriptions.csv')\n",
    "df_attr = pd.read_csv('../data/attributes.csv')"
   ]
  },
  {
   "cell_type": "code",
   "execution_count": 12,
   "metadata": {
    "collapsed": false
   },
   "outputs": [
    {
     "data": {
      "text/plain": [
       "id                 int64\n",
       "product_uid        int64\n",
       "product_title     object\n",
       "search_term       object\n",
       "relevance        float64\n",
       "dtype: object"
      ]
     },
     "execution_count": 12,
     "metadata": {},
     "output_type": "execute_result"
    }
   ],
   "source": [
    "df_train.dtypes"
   ]
  },
  {
   "cell_type": "code",
   "execution_count": 13,
   "metadata": {
    "collapsed": false
   },
   "outputs": [
    {
     "name": "stdout",
     "output_type": "stream",
     "text": [
      "extracting brand attributes\n"
     ]
    }
   ],
   "source": [
    "print('extracting brand attributes')\n",
    "df_brand = df_attr[df_attr.name == \"MFG Brand Name\"][[\"product_uid\", \"value\"]].rename(columns={\"value\": \"brand\"})\n",
    "\n"
   ]
  },
  {
   "cell_type": "code",
   "execution_count": 14,
   "metadata": {
    "collapsed": false
   },
   "outputs": [
    {
     "name": "stdout",
     "output_type": "stream",
     "text": [
      "merging predictor data\n"
     ]
    }
   ],
   "source": [
    "print('merging predictor data')\n",
    "df_all = pd.concat((df_train, df_test), axis=0, ignore_index=True)\n",
    "df_all = pd.merge(df_all, df_pro_desc, how='left', on='product_uid')\n",
    "df_all = pd.merge(df_all, df_brand, how='left', on='product_uid')"
   ]
  },
  {
   "cell_type": "code",
   "execution_count": 15,
   "metadata": {
    "collapsed": false
   },
   "outputs": [],
   "source": [
    "def str_stem(s):\n",
    "    if isinstance(s, str):\n",
    "        s = s.lower()\n",
    "        s = re.sub(r\"(\\w)\\.([A-Z])\", r\"\\1 \\2\", s)\n",
    "    \n",
    "        s = s.replace(\" x \",\" xby \")\n",
    "        s = s.replace(\"*\",\" xby \")\n",
    "        s = s.replace(\" by \",\" xby\")\n",
    "        s = s.replace(\"x0\",\" xby 0\")\n",
    "        s = s.replace(\"x1\",\" xby 1\")\n",
    "        s = s.replace(\"x2\",\" xby 2\")\n",
    "        s = s.replace(\"x3\",\" xby 3\")\n",
    "        s = s.replace(\"x4\",\" xby 4\")\n",
    "        s = s.replace(\"x5\",\" xby 5\")\n",
    "        s = s.replace(\"x6\",\" xby 6\")\n",
    "        s = s.replace(\"x7\",\" xby 7\")\n",
    "        s = s.replace(\"x8\",\" xby 8\")\n",
    "        s = s.replace(\"x9\",\" xby 9\")\n",
    "        s = s.replace(\"0x\",\"0 xby \")\n",
    "        s = s.replace(\"1x\",\"1 xby \")\n",
    "        s = s.replace(\"2x\",\"2 xby \")\n",
    "        s = s.replace(\"3x\",\"3 xby \")\n",
    "        s = s.replace(\"4x\",\"4 xby \")\n",
    "        s = s.replace(\"5x\",\"5 xby \")\n",
    "        s = s.replace(\"6x\",\"6 xby \")\n",
    "        s = s.replace(\"7x\",\"7 xby \")\n",
    "        s = s.replace(\"8x\",\"8 xby \")\n",
    "        s = s.replace(\"9x\",\"9 xby \")\n",
    "        \n",
    "        s = re.sub(r\"([0-9]+)( *)(inches|inch|in|')\\.?\", r\"\\1in. \", s)\n",
    "        s = re.sub(r\"([0-9]+)( *)(foot|feet|ft|'')\\.?\", r\"\\1ft. \", s)\n",
    "        s = re.sub(r\"([0-9]+)( *)(pounds|pound|lbs|lb)\\.?\", r\"\\1lb. \", s)\n",
    "        s = re.sub(r\"([0-9]+)( *)(square|sq) ?\\.?(feet|foot|ft)\\.?\", r\"\\1sq.ft. \", s)\n",
    "        s = re.sub(r\"([0-9]+)( *)(gallons|gallon|gal)\\.?\", r\"\\1gal. \", s)\n",
    "        s = re.sub(r\"([0-9]+)( *)(ounces|ounce|oz)\\.?\", r\"\\1oz. \", s)\n",
    "        s = re.sub(r\"([0-9]+)( *)(centimeters|cm)\\.?\", r\"\\1cm. \", s)\n",
    "        s = re.sub(r\"([0-9]+)( *)(milimeters|mm)\\.?\", r\"\\1mm. \", s)\n",
    "        s = re.sub(r\"([0-9]+)( *)(millimeters|mm)\\.?\", r\"\\1mm. \", s)\n",
    "        s = re.sub(r\"([0-9]+)( *)(degrees|degree)\\.?\", r\"\\1deg. \", s)\n",
    "        s = re.sub(r\"([0-9]+)( *)(volts|volt)\\.?\", r\"\\1volt. \", s)\n",
    "        s = re.sub(r\"([0-9]+)( *)(watts|watt)\\.?\", r\"\\1watt. \", s)\n",
    "        s = re.sub(r\"([0-9]+)( *)(amperes|ampere|amps|amp)\\.?\", r\"\\1amp. \", s)\n",
    "\n",
    "        s = s.replace(\"whirpool\", \"whirlpool\")\n",
    "        s = s.replace(\"whirlpoolga\", \"whirlpool\")\n",
    "        s = s.replace(\"whirlpoolstainless\", \"whirlpool stainless\")\n",
    "\n",
    "        s = s.replace(\" +\", \" \")\n",
    "        s = \" \".join([stemmer.stem(z) for z in s.split(\" \")])\n",
    "        return s\n",
    "\n",
    "    else:\n",
    "        print type(s)\n",
    "        print s\n",
    "        return \"null\""
   ]
  },
  {
   "cell_type": "code",
   "execution_count": 16,
   "metadata": {
    "collapsed": false
   },
   "outputs": [
    {
     "data": {
      "text/plain": [
       "u'6 xbi 6'"
      ]
     },
     "execution_count": 16,
     "metadata": {},
     "output_type": "execute_result"
    }
   ],
   "source": [
    "str_stem('6x6')"
   ]
  },
  {
   "cell_type": "code",
   "execution_count": 17,
   "metadata": {
    "collapsed": false
   },
   "outputs": [
    {
     "data": {
      "text/plain": [
       "u'behr premium textur deckov 1-gal. #sc-141 tugboat wood and concret coat'"
      ]
     },
     "execution_count": 17,
     "metadata": {},
     "output_type": "execute_result"
    }
   ],
   "source": [
    "str_stem(df_all['product_title'][2])"
   ]
  },
  {
   "cell_type": "code",
   "execution_count": 18,
   "metadata": {
    "collapsed": false
   },
   "outputs": [
    {
     "data": {
      "text/plain": [
       "0                       simpson strong-ti 12-gaug angl\n",
       "1                       simpson strong-ti 12-gaug angl\n",
       "2    behr premium textur deckov 1-gal. #sc-141 tugb...\n",
       "3    delta vero 1-handl shower onli faucet trim kit...\n",
       "4    delta vero 1-handl shower onli faucet trim kit...\n",
       "5                       simpson strong-ti 12-gaug angl\n",
       "6                       simpson strong-ti 12-gaug angl\n",
       "7                       simpson strong-ti 12-gaug angl\n",
       "8                       simpson strong-ti 12-gaug angl\n",
       "9                       simpson strong-ti 12-gaug angl\n",
       "Name: product_title, dtype: object"
      ]
     },
     "execution_count": 18,
     "metadata": {},
     "output_type": "execute_result"
    }
   ],
   "source": [
    "df_all['product_title'].map(lambda x: str_stem(x))"
   ]
  },
  {
   "cell_type": "code",
   "execution_count": 19,
   "metadata": {
    "collapsed": false
   },
   "outputs": [
    {
     "name": "stdout",
     "output_type": "stream",
     "text": [
      "creating additional features\n"
     ]
    }
   ],
   "source": [
    "print('creating additional features')\n",
    "df_all['search_term'] = df_all['search_term'].map(lambda x: str_stem(str(x)))\n",
    "df_all['product_title'] = df_all['product_title'].map(lambda x: str_stem(str(x)))\n",
    "df_all['product_description'] = df_all['product_description'].map(lambda x: str_stem(str(x)))\n",
    "df_all['brand'] = df_all['brand'].map(lambda x: str_stem(str(x)))\n",
    "df_all['len_of_query'] = df_all['search_term'].map(lambda x: len(str(x).split())).astype(np.int64)\n",
    "df_all['len_of_title'] = df_all['product_title'].map(lambda x: len(str(x).split())).astype(np.int64)\n",
    "df_all['len_of_description'] = df_all['product_description'].map(lambda x: len(str(x).split())).astype(np.int64)\n",
    "df_all['len_of_brand'] = df_all['brand'].map(lambda x: len(str(x).split())).astype(np.int64)\n",
    "df_all['product_info'] = df_all['search_term']+\"\\t\"+df_all['product_title'] + \"\\t\" + df_all['product_description']\n",
    "df_all['query_in_title'] = df_all['product_info'].map(lambda x: str_whole_word(str(x).split('\\t')[0],str(x).split('\\t')[1],0))\n",
    "df_all['query_in_description'] = df_all['product_info'].map(lambda x: str_whole_word(str(x).split('\\t')[0],str(x).split('\\t')[2],0))\n",
    "df_all['word_in_title'] = df_all['product_info'].map(lambda x: str_common_word(str(x).split('\\t')[0],str(x).split('\\t')[1]))\n",
    "df_all['word_in_description'] = df_all['product_info'].map(lambda x: str_common_word(str(x).split('\\t')[0],str(x).split('\\t')[2]))\n",
    "df_all['ratio_title'] = df_all['word_in_title']/df_all['len_of_query']\n",
    "df_all['ratio_description'] = df_all['word_in_description']/df_all['len_of_query']\n",
    "df_all['attr'] = df_all['search_term']+\"\\t\"+df_all['brand']\n",
    "df_all['word_in_brand'] = df_all['attr'].map(lambda x: str_common_word(str(x).split('\\t')[0],str(x).split('\\t')[1]))\n",
    "df_all['ratio_brand'] = df_all['word_in_brand']/df_all['len_of_brand']\n",
    "df_all['search_term_feature'] = df_all['search_term'].map(lambda x: len(str(x)))\n",
    "\n",
    "df_brand = pd.unique(df_all.brand.ravel())\n",
    "d = {}\n",
    "i = 1\n",
    "for s in df_brand:\n",
    "    d[s] = i\n",
    "    i += 1\n",
    "df_all['brand_feature'] = df_all['brand'].map(lambda x: d[x])"
   ]
  },
  {
   "cell_type": "code",
   "execution_count": 20,
   "metadata": {
    "collapsed": false
   },
   "outputs": [
    {
     "data": {
      "text/html": [
       "<div>\n",
       "<table border=\"1\" class=\"dataframe\">\n",
       "  <thead>\n",
       "    <tr style=\"text-align: right;\">\n",
       "      <th></th>\n",
       "      <th>id</th>\n",
       "      <th>product_title</th>\n",
       "      <th>product_uid</th>\n",
       "      <th>relevance</th>\n",
       "      <th>search_term</th>\n",
       "      <th>product_description</th>\n",
       "      <th>brand</th>\n",
       "      <th>len_of_query</th>\n",
       "      <th>len_of_title</th>\n",
       "      <th>len_of_description</th>\n",
       "      <th>...</th>\n",
       "      <th>query_in_description</th>\n",
       "      <th>word_in_title</th>\n",
       "      <th>word_in_description</th>\n",
       "      <th>ratio_title</th>\n",
       "      <th>ratio_description</th>\n",
       "      <th>attr</th>\n",
       "      <th>word_in_brand</th>\n",
       "      <th>ratio_brand</th>\n",
       "      <th>search_term_feature</th>\n",
       "      <th>brand_feature</th>\n",
       "    </tr>\n",
       "  </thead>\n",
       "  <tbody>\n",
       "    <tr>\n",
       "      <th>0</th>\n",
       "      <td>2</td>\n",
       "      <td>simpson strong-ti 12-gaug angl</td>\n",
       "      <td>100001</td>\n",
       "      <td>3.00</td>\n",
       "      <td>angl bracket</td>\n",
       "      <td>not onli do angl make joint stronger, they als...</td>\n",
       "      <td>simpson strong-ti</td>\n",
       "      <td>2</td>\n",
       "      <td>4</td>\n",
       "      <td>126</td>\n",
       "      <td>...</td>\n",
       "      <td>0</td>\n",
       "      <td>1</td>\n",
       "      <td>1</td>\n",
       "      <td>0.500000</td>\n",
       "      <td>0.500000</td>\n",
       "      <td>angl bracket\\tsimpson strong-ti</td>\n",
       "      <td>0</td>\n",
       "      <td>0.00</td>\n",
       "      <td>12</td>\n",
       "      <td>1</td>\n",
       "    </tr>\n",
       "    <tr>\n",
       "      <th>1</th>\n",
       "      <td>3</td>\n",
       "      <td>simpson strong-ti 12-gaug angl</td>\n",
       "      <td>100001</td>\n",
       "      <td>2.50</td>\n",
       "      <td>l bracket</td>\n",
       "      <td>not onli do angl make joint stronger, they als...</td>\n",
       "      <td>simpson strong-ti</td>\n",
       "      <td>2</td>\n",
       "      <td>4</td>\n",
       "      <td>126</td>\n",
       "      <td>...</td>\n",
       "      <td>0</td>\n",
       "      <td>1</td>\n",
       "      <td>1</td>\n",
       "      <td>0.500000</td>\n",
       "      <td>0.500000</td>\n",
       "      <td>l bracket\\tsimpson strong-ti</td>\n",
       "      <td>0</td>\n",
       "      <td>0.00</td>\n",
       "      <td>9</td>\n",
       "      <td>1</td>\n",
       "    </tr>\n",
       "    <tr>\n",
       "      <th>2</th>\n",
       "      <td>9</td>\n",
       "      <td>behr premium textur deckov 1-gal. #sc-141 tugb...</td>\n",
       "      <td>100002</td>\n",
       "      <td>3.00</td>\n",
       "      <td>deck over</td>\n",
       "      <td>behr premium textur deckov is an innov solid c...</td>\n",
       "      <td>behr premium textur deckov</td>\n",
       "      <td>2</td>\n",
       "      <td>11</td>\n",
       "      <td>167</td>\n",
       "      <td>...</td>\n",
       "      <td>0</td>\n",
       "      <td>1</td>\n",
       "      <td>1</td>\n",
       "      <td>0.500000</td>\n",
       "      <td>0.500000</td>\n",
       "      <td>deck over\\tbehr premium textur deckov</td>\n",
       "      <td>1</td>\n",
       "      <td>0.25</td>\n",
       "      <td>9</td>\n",
       "      <td>2</td>\n",
       "    </tr>\n",
       "    <tr>\n",
       "      <th>3</th>\n",
       "      <td>16</td>\n",
       "      <td>delta vero 1-handl shower onli faucet trim kit...</td>\n",
       "      <td>100005</td>\n",
       "      <td>2.33</td>\n",
       "      <td>rain shower head</td>\n",
       "      <td>updat your bathroom with the delta vero single...</td>\n",
       "      <td>delta</td>\n",
       "      <td>3</td>\n",
       "      <td>13</td>\n",
       "      <td>103</td>\n",
       "      <td>...</td>\n",
       "      <td>0</td>\n",
       "      <td>1</td>\n",
       "      <td>1</td>\n",
       "      <td>0.333333</td>\n",
       "      <td>0.333333</td>\n",
       "      <td>rain shower head\\tdelta</td>\n",
       "      <td>0</td>\n",
       "      <td>0.00</td>\n",
       "      <td>16</td>\n",
       "      <td>3</td>\n",
       "    </tr>\n",
       "    <tr>\n",
       "      <th>4</th>\n",
       "      <td>17</td>\n",
       "      <td>delta vero 1-handl shower onli faucet trim kit...</td>\n",
       "      <td>100005</td>\n",
       "      <td>2.67</td>\n",
       "      <td>shower onli faucet</td>\n",
       "      <td>updat your bathroom with the delta vero single...</td>\n",
       "      <td>delta</td>\n",
       "      <td>3</td>\n",
       "      <td>13</td>\n",
       "      <td>103</td>\n",
       "      <td>...</td>\n",
       "      <td>0</td>\n",
       "      <td>3</td>\n",
       "      <td>2</td>\n",
       "      <td>1.000000</td>\n",
       "      <td>0.666667</td>\n",
       "      <td>shower onli faucet\\tdelta</td>\n",
       "      <td>0</td>\n",
       "      <td>0.00</td>\n",
       "      <td>18</td>\n",
       "      <td>3</td>\n",
       "    </tr>\n",
       "    <tr>\n",
       "      <th>5</th>\n",
       "      <td>1</td>\n",
       "      <td>simpson strong-ti 12-gaug angl</td>\n",
       "      <td>100001</td>\n",
       "      <td>NaN</td>\n",
       "      <td>90deg.  bracket</td>\n",
       "      <td>not onli do angl make joint stronger, they als...</td>\n",
       "      <td>simpson strong-ti</td>\n",
       "      <td>2</td>\n",
       "      <td>4</td>\n",
       "      <td>126</td>\n",
       "      <td>...</td>\n",
       "      <td>0</td>\n",
       "      <td>0</td>\n",
       "      <td>0</td>\n",
       "      <td>0.000000</td>\n",
       "      <td>0.000000</td>\n",
       "      <td>90deg.  bracket\\tsimpson strong-ti</td>\n",
       "      <td>0</td>\n",
       "      <td>0.00</td>\n",
       "      <td>15</td>\n",
       "      <td>1</td>\n",
       "    </tr>\n",
       "    <tr>\n",
       "      <th>6</th>\n",
       "      <td>4</td>\n",
       "      <td>simpson strong-ti 12-gaug angl</td>\n",
       "      <td>100001</td>\n",
       "      <td>NaN</td>\n",
       "      <td>metal l bracket</td>\n",
       "      <td>not onli do angl make joint stronger, they als...</td>\n",
       "      <td>simpson strong-ti</td>\n",
       "      <td>3</td>\n",
       "      <td>4</td>\n",
       "      <td>126</td>\n",
       "      <td>...</td>\n",
       "      <td>0</td>\n",
       "      <td>1</td>\n",
       "      <td>1</td>\n",
       "      <td>0.333333</td>\n",
       "      <td>0.333333</td>\n",
       "      <td>metal l bracket\\tsimpson strong-ti</td>\n",
       "      <td>0</td>\n",
       "      <td>0.00</td>\n",
       "      <td>15</td>\n",
       "      <td>1</td>\n",
       "    </tr>\n",
       "    <tr>\n",
       "      <th>7</th>\n",
       "      <td>5</td>\n",
       "      <td>simpson strong-ti 12-gaug angl</td>\n",
       "      <td>100001</td>\n",
       "      <td>NaN</td>\n",
       "      <td>simpson sku abl</td>\n",
       "      <td>not onli do angl make joint stronger, they als...</td>\n",
       "      <td>simpson strong-ti</td>\n",
       "      <td>3</td>\n",
       "      <td>4</td>\n",
       "      <td>126</td>\n",
       "      <td>...</td>\n",
       "      <td>0</td>\n",
       "      <td>1</td>\n",
       "      <td>1</td>\n",
       "      <td>0.333333</td>\n",
       "      <td>0.333333</td>\n",
       "      <td>simpson sku abl\\tsimpson strong-ti</td>\n",
       "      <td>1</td>\n",
       "      <td>0.50</td>\n",
       "      <td>15</td>\n",
       "      <td>1</td>\n",
       "    </tr>\n",
       "    <tr>\n",
       "      <th>8</th>\n",
       "      <td>6</td>\n",
       "      <td>simpson strong-ti 12-gaug angl</td>\n",
       "      <td>100001</td>\n",
       "      <td>NaN</td>\n",
       "      <td>simpson strong  tie</td>\n",
       "      <td>not onli do angl make joint stronger, they als...</td>\n",
       "      <td>simpson strong-ti</td>\n",
       "      <td>3</td>\n",
       "      <td>4</td>\n",
       "      <td>126</td>\n",
       "      <td>...</td>\n",
       "      <td>0</td>\n",
       "      <td>2</td>\n",
       "      <td>2</td>\n",
       "      <td>0.666667</td>\n",
       "      <td>0.666667</td>\n",
       "      <td>simpson strong  tie\\tsimpson strong-ti</td>\n",
       "      <td>2</td>\n",
       "      <td>1.00</td>\n",
       "      <td>19</td>\n",
       "      <td>1</td>\n",
       "    </tr>\n",
       "    <tr>\n",
       "      <th>9</th>\n",
       "      <td>7</td>\n",
       "      <td>simpson strong-ti 12-gaug angl</td>\n",
       "      <td>100001</td>\n",
       "      <td>NaN</td>\n",
       "      <td>simpson strong tie hcc668</td>\n",
       "      <td>not onli do angl make joint stronger, they als...</td>\n",
       "      <td>simpson strong-ti</td>\n",
       "      <td>4</td>\n",
       "      <td>4</td>\n",
       "      <td>126</td>\n",
       "      <td>...</td>\n",
       "      <td>0</td>\n",
       "      <td>2</td>\n",
       "      <td>2</td>\n",
       "      <td>0.500000</td>\n",
       "      <td>0.500000</td>\n",
       "      <td>simpson strong tie hcc668\\tsimpson strong-ti</td>\n",
       "      <td>2</td>\n",
       "      <td>1.00</td>\n",
       "      <td>25</td>\n",
       "      <td>1</td>\n",
       "    </tr>\n",
       "  </tbody>\n",
       "</table>\n",
       "<p>10 rows × 23 columns</p>\n",
       "</div>"
      ],
      "text/plain": [
       "   id                                      product_title  product_uid  \\\n",
       "0   2                     simpson strong-ti 12-gaug angl       100001   \n",
       "1   3                     simpson strong-ti 12-gaug angl       100001   \n",
       "2   9  behr premium textur deckov 1-gal. #sc-141 tugb...       100002   \n",
       "3  16  delta vero 1-handl shower onli faucet trim kit...       100005   \n",
       "4  17  delta vero 1-handl shower onli faucet trim kit...       100005   \n",
       "5   1                     simpson strong-ti 12-gaug angl       100001   \n",
       "6   4                     simpson strong-ti 12-gaug angl       100001   \n",
       "7   5                     simpson strong-ti 12-gaug angl       100001   \n",
       "8   6                     simpson strong-ti 12-gaug angl       100001   \n",
       "9   7                     simpson strong-ti 12-gaug angl       100001   \n",
       "\n",
       "   relevance                search_term  \\\n",
       "0       3.00               angl bracket   \n",
       "1       2.50                  l bracket   \n",
       "2       3.00                  deck over   \n",
       "3       2.33           rain shower head   \n",
       "4       2.67         shower onli faucet   \n",
       "5        NaN            90deg.  bracket   \n",
       "6        NaN            metal l bracket   \n",
       "7        NaN            simpson sku abl   \n",
       "8        NaN        simpson strong  tie   \n",
       "9        NaN  simpson strong tie hcc668   \n",
       "\n",
       "                                 product_description  \\\n",
       "0  not onli do angl make joint stronger, they als...   \n",
       "1  not onli do angl make joint stronger, they als...   \n",
       "2  behr premium textur deckov is an innov solid c...   \n",
       "3  updat your bathroom with the delta vero single...   \n",
       "4  updat your bathroom with the delta vero single...   \n",
       "5  not onli do angl make joint stronger, they als...   \n",
       "6  not onli do angl make joint stronger, they als...   \n",
       "7  not onli do angl make joint stronger, they als...   \n",
       "8  not onli do angl make joint stronger, they als...   \n",
       "9  not onli do angl make joint stronger, they als...   \n",
       "\n",
       "                        brand  len_of_query  len_of_title  len_of_description  \\\n",
       "0           simpson strong-ti             2             4                 126   \n",
       "1           simpson strong-ti             2             4                 126   \n",
       "2  behr premium textur deckov             2            11                 167   \n",
       "3                       delta             3            13                 103   \n",
       "4                       delta             3            13                 103   \n",
       "5           simpson strong-ti             2             4                 126   \n",
       "6           simpson strong-ti             3             4                 126   \n",
       "7           simpson strong-ti             3             4                 126   \n",
       "8           simpson strong-ti             3             4                 126   \n",
       "9           simpson strong-ti             4             4                 126   \n",
       "\n",
       "       ...        query_in_description word_in_title  word_in_description  \\\n",
       "0      ...                           0             1                    1   \n",
       "1      ...                           0             1                    1   \n",
       "2      ...                           0             1                    1   \n",
       "3      ...                           0             1                    1   \n",
       "4      ...                           0             3                    2   \n",
       "5      ...                           0             0                    0   \n",
       "6      ...                           0             1                    1   \n",
       "7      ...                           0             1                    1   \n",
       "8      ...                           0             2                    2   \n",
       "9      ...                           0             2                    2   \n",
       "\n",
       "   ratio_title  ratio_description  \\\n",
       "0     0.500000           0.500000   \n",
       "1     0.500000           0.500000   \n",
       "2     0.500000           0.500000   \n",
       "3     0.333333           0.333333   \n",
       "4     1.000000           0.666667   \n",
       "5     0.000000           0.000000   \n",
       "6     0.333333           0.333333   \n",
       "7     0.333333           0.333333   \n",
       "8     0.666667           0.666667   \n",
       "9     0.500000           0.500000   \n",
       "\n",
       "                                           attr  word_in_brand  ratio_brand  \\\n",
       "0               angl bracket\\tsimpson strong-ti              0         0.00   \n",
       "1                  l bracket\\tsimpson strong-ti              0         0.00   \n",
       "2         deck over\\tbehr premium textur deckov              1         0.25   \n",
       "3                       rain shower head\\tdelta              0         0.00   \n",
       "4                     shower onli faucet\\tdelta              0         0.00   \n",
       "5            90deg.  bracket\\tsimpson strong-ti              0         0.00   \n",
       "6            metal l bracket\\tsimpson strong-ti              0         0.00   \n",
       "7            simpson sku abl\\tsimpson strong-ti              1         0.50   \n",
       "8        simpson strong  tie\\tsimpson strong-ti              2         1.00   \n",
       "9  simpson strong tie hcc668\\tsimpson strong-ti              2         1.00   \n",
       "\n",
       "  search_term_feature  brand_feature  \n",
       "0                  12              1  \n",
       "1                   9              1  \n",
       "2                   9              2  \n",
       "3                  16              3  \n",
       "4                  18              3  \n",
       "5                  15              1  \n",
       "6                  15              1  \n",
       "7                  15              1  \n",
       "8                  19              1  \n",
       "9                  25              1  \n",
       "\n",
       "[10 rows x 23 columns]"
      ]
     },
     "execution_count": 20,
     "metadata": {},
     "output_type": "execute_result"
    }
   ],
   "source": [
    "df_all"
   ]
  },
  {
   "cell_type": "code",
   "execution_count": 4,
   "metadata": {
    "collapsed": true
   },
   "outputs": [],
   "source": [
    "from utils import *"
   ]
  },
  {
   "cell_type": "code",
   "execution_count": 6,
   "metadata": {
    "collapsed": false
   },
   "outputs": [
    {
     "data": {
      "text/plain": [
       "'storage shelf'"
      ]
     },
     "execution_count": 6,
     "metadata": {},
     "output_type": "execute_result"
    }
   ],
   "source": [
    "check_typos('storage shelve')"
   ]
  },
  {
   "cell_type": "code",
   "execution_count": null,
   "metadata": {
    "collapsed": true
   },
   "outputs": [],
   "source": []
  }
 ],
 "metadata": {
  "kernelspec": {
   "display_name": "Python 2",
   "language": "python",
   "name": "python2"
  },
  "language_info": {
   "codemirror_mode": {
    "name": "ipython",
    "version": 2
   },
   "file_extension": ".py",
   "mimetype": "text/x-python",
   "name": "python",
   "nbconvert_exporter": "python",
   "pygments_lexer": "ipython2",
   "version": "2.7.11"
  }
 },
 "nbformat": 4,
 "nbformat_minor": 0
}
